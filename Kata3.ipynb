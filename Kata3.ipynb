{
 "cells": [
  {
   "cell_type": "markdown",
   "metadata": {},
   "source": [
    "## Velocidad del asteroide"
   ]
  },
  {
   "cell_type": "code",
   "execution_count": 1,
   "metadata": {},
   "outputs": [
    {
     "name": "stdout",
     "output_type": "stream",
     "text": [
      "Disfrute su último día con vida\n"
     ]
    }
   ],
   "source": [
    "vel = 49\n",
    "\n",
    "if vel > 25:\n",
    "    print(\"Disfrute su último día con vida\")\n",
    "else:\n",
    "    print(\"Sigua con su día :)\")"
   ]
  },
  {
   "cell_type": "code",
   "execution_count": 2,
   "metadata": {},
   "outputs": [
    {
     "name": "stdout",
     "output_type": "stream",
     "text": [
      "Sigua con su día :)\n"
     ]
    }
   ],
   "source": [
    "vel = 19\n",
    "\n",
    "if vel > 25:\n",
    "    print(\"Disfrute su último día con vida\")\n",
    "elif vel > 20:\n",
    "    print(\"Salga, se verá un rayo de lúz\")    \n",
    "else:\n",
    "    print(\"Sigua con su día :)\")  "
   ]
  },
  {
   "cell_type": "code",
   "execution_count": 1,
   "metadata": {},
   "outputs": [
    {
     "name": "stdout",
     "output_type": "stream",
     "text": [
      "!URGENTE! El asteroide puede causar mucho daño\n"
     ]
    }
   ],
   "source": [
    "Tamaño = int(input(\"De qué tamaño es el asteroide que se aproxima? \"))\n",
    "Vel = int(input(\"Qué velocidad lleva?\"))\n",
    "\n",
    "if Vel >= 25 and Tamaño >= 25:\n",
    "    print(\"!URGENTE! El asteroide puede causar mucho daño\")\n",
    "elif Vel >= 20:\n",
    "    print('Hay una luz en el cielo!')\n",
    "elif Tamaño < 25:\n",
    "    print('Nada que ver aquí :)')\n",
    "else:\n",
    "    print(\"No pasará nada sigua con su día :)\")   "
   ]
  }
 ],
 "metadata": {
  "interpreter": {
   "hash": "4b6ba3185840b55abef97b50b39247296152aaaf79648a69c23706c4e862bd35"
  },
  "kernelspec": {
   "display_name": "Python 3.10.2 64-bit",
   "language": "python",
   "name": "python3"
  },
  "language_info": {
   "codemirror_mode": {
    "name": "ipython",
    "version": 3
   },
   "file_extension": ".py",
   "mimetype": "text/x-python",
   "name": "python",
   "nbconvert_exporter": "python",
   "pygments_lexer": "ipython3",
   "version": "3.10.2"
  },
  "orig_nbformat": 4
 },
 "nbformat": 4,
 "nbformat_minor": 2
}
