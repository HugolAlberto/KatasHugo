{
 "cells": [
  {
   "cell_type": "markdown",
   "metadata": {},
   "source": [
    "## Ejercicio1 - Utilizar operadores aritméticos"
   ]
  },
  {
   "cell_type": "code",
   "execution_count": 1,
   "metadata": {},
   "outputs": [
    {
     "name": "stdout",
     "output_type": "stream",
     "text": [
      "La distancia de la tierra a júpiter es de: 628949330 km\n",
      "La distancia de la tierra a júpiter es de: 390577533.93 millas\n"
     ]
    }
   ],
   "source": [
    "Tierra = 149597870 \n",
    "Jupiter = 778547200\n",
    "\n",
    "dst = Jupiter - Tierra\n",
    "\n",
    "print(\"La distancia de la tierra a júpiter es de: \" +  str(dst) + \" km\")\n",
    "\n",
    "millas = dst * 0.621\n",
    "\n",
    "print(\"La distancia de la tierra a júpiter es de: \" +  str(millas) + \" millas\")"
   ]
  },
  {
   "cell_type": "markdown",
   "metadata": {},
   "source": [
    "## Ejercicio 2: convierte cadenas en números y usa valores absolutos"
   ]
  },
  {
   "cell_type": "code",
   "execution_count": 2,
   "metadata": {},
   "outputs": [
    {
     "name": "stdout",
     "output_type": "stream",
     "text": [
      "La distancia es de 628949330\n"
     ]
    }
   ],
   "source": [
    "p1 = int(input(\"Cual es la distancia al sol de tu planeta 1?\"))\n",
    "p2 = int(input(\"Cual es la distancia al sol de tu planeta 2?\"))\n",
    "\n",
    "dstmi = abs(p1 - p2)\n",
    "dstk = dstmi * 0.621\n",
    "print(\"La distancia es de \" + str(dst))"
   ]
  }
 ],
 "metadata": {
  "interpreter": {
   "hash": "4b6ba3185840b55abef97b50b39247296152aaaf79648a69c23706c4e862bd35"
  },
  "kernelspec": {
   "display_name": "Python 3.10.2 64-bit",
   "language": "python",
   "name": "python3"
  },
  "language_info": {
   "codemirror_mode": {
    "name": "ipython",
    "version": 3
   },
   "file_extension": ".py",
   "mimetype": "text/x-python",
   "name": "python",
   "nbconvert_exporter": "python",
   "pygments_lexer": "ipython3",
   "version": "3.10.2"
  },
  "orig_nbformat": 4
 },
 "nbformat": 4,
 "nbformat_minor": 2
}
