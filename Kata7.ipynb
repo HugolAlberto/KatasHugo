{
 "cells": [
  {
   "cell_type": "markdown",
   "metadata": {},
   "source": [
    "## Ejercicio 1: Creación de un bucle \"while\""
   ]
  },
  {
   "cell_type": "code",
   "execution_count": 1,
   "metadata": {},
   "outputs": [
    {
     "data": {
      "text/plain": [
       "'done'"
      ]
     },
     "execution_count": 1,
     "metadata": {},
     "output_type": "execute_result"
    }
   ],
   "source": [
    "planets = []\n",
    "input_planet= ''\n",
    "\n",
    "while input_planet.lower() != 'done':\n",
    "    input_planet = input('Escribe un planeta')\n",
    "    planets.append(input_planet)\n",
    "\n",
    "planets.pop()    \n"
   ]
  },
  {
   "cell_type": "markdown",
   "metadata": {},
   "source": [
    "## Ejercicio 2: Creación de un ciclo \"for\""
   ]
  },
  {
   "cell_type": "code",
   "execution_count": null,
   "metadata": {},
   "outputs": [],
   "source": [
    "planets = []\n",
    "input_planet= ''\n",
    "\n",
    "while input_planet.lower() != 'done':\n",
    "    input_planet = input('Escribe un planeta')\n",
    "    planets.append(input_planet)\n",
    "    \n",
    "for str in planets:\n",
    "    print(str) "
   ]
  }
 ],
 "metadata": {
  "interpreter": {
   "hash": "4b6ba3185840b55abef97b50b39247296152aaaf79648a69c23706c4e862bd35"
  },
  "kernelspec": {
   "display_name": "Python 3.10.2 64-bit",
   "language": "python",
   "name": "python3"
  },
  "language_info": {
   "codemirror_mode": {
    "name": "ipython",
    "version": 3
   },
   "file_extension": ".py",
   "mimetype": "text/x-python",
   "name": "python",
   "nbconvert_exporter": "python",
   "pygments_lexer": "ipython3",
   "version": "3.10.2"
  },
  "orig_nbformat": 4
 },
 "nbformat": 4,
 "nbformat_minor": 2
}
