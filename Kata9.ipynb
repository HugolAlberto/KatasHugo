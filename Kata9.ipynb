{
 "cells": [
  {
   "cell_type": "markdown",
   "metadata": {},
   "source": [
    "## Ejercicio 1: Trabajar con argumentos en funciones"
   ]
  },
  {
   "cell_type": "code",
   "execution_count": 4,
   "metadata": {},
   "outputs": [
    {
     "name": "stdout",
     "output_type": "stream",
     "text": [
      "Reporte de combustible: \n",
      "    Promedio total 22.666666666666668% \n",
      "    Tanque principal: 20%   \n",
      "    Tanque exterior: 30%\n",
      "    Tanque de hidrógeno: 18%\n"
     ]
    }
   ],
   "source": [
    "def combustible(lec1, lec2, lec3):\n",
    "    promedio = (lec1+lec2+lec3)/3\n",
    "    return f\"\"\"Reporte de combustible: \n",
    "    Promedio total {promedio}% \n",
    "    Tanque principal: {lec1}%   \n",
    "    Tanque exterior: {lec2}%\n",
    "    Tanque de hidrógeno: {lec3}%\"\"\"\n",
    "\n",
    "\n",
    "print(combustible(20, 30, 18)) "
   ]
  },
  {
   "cell_type": "markdown",
   "metadata": {},
   "source": [
    "## Ejercicio 2: Trabajo con argumentos de palabra clave"
   ]
  },
  {
   "cell_type": "code",
   "execution_count": 5,
   "metadata": {},
   "outputs": [
    {
     "name": "stdout",
     "output_type": "stream",
     "text": [
      " Datos de la misión:\n",
      "    Nos dirigimos hacia Júpiter\n",
      "    Hora de salida 12:04\n",
      "    Tiempo de vuelo: 112 minutos\n",
      "    Detalles de los tanques:\n",
      "        Interno: 99%\n",
      "        Externo: 96% \n"
     ]
    }
   ],
   "source": [
    "def informe(hora, tiempo, almuerzo, destino, tanqueE, tanqueI):\n",
    "    return f\"\"\" Datos de la misión:\n",
    "    Nos dirigimos hacia {destino}\n",
    "    Hora de salida {hora}\n",
    "    Tiempo de vuelo: {tiempo + almuerzo} minutos\n",
    "    Detalles de los tanques:\n",
    "        Interno: {tanqueI}%\n",
    "        Externo: {tanqueE}% \"\"\"\n",
    "\n",
    "print(informe('12:04', 87, 25, 'Júpiter', 96, 99)) "
   ]
  },
  {
   "cell_type": "code",
   "execution_count": 6,
   "metadata": {},
   "outputs": [
    {
     "name": "stdout",
     "output_type": "stream",
     "text": [
      " Datos de la misión:\n",
      "    Nos dirigimos hacia Júpiter\n",
      "    Hora de salida 09:14 pm\n",
      "    Tiempo de vuelo: 95 minutos\n",
      "    Detalles de los tanques:\n",
      "        Combustible restante: 600 \n"
     ]
    }
   ],
   "source": [
    "def informe(destino, hora, *tiempo, **tanques):\n",
    "    return f\"\"\" Datos de la misión:\n",
    "    Nos dirigimos hacia {destino}\n",
    "    Hora de salida {hora}\n",
    "    Tiempo de vuelo: {sum(tiempo)} minutos\n",
    "    Detalles de los tanques:\n",
    "        Combustible restante: {sum(tanques.values())} \"\"\"\n",
    "\n",
    "print(informe('Júpiter', '09:14 pm', 45, 10, 15, 25, principal=200, externo= 400))        "
   ]
  },
  {
   "cell_type": "code",
   "execution_count": 1,
   "metadata": {},
   "outputs": [
    {
     "name": "stdout",
     "output_type": "stream",
     "text": [
      "\n",
      "    Mission to Moon\n",
      "    Total travel time: 76 minutes\n",
      "    Total fuel left: 500000\n",
      "    Tanque principal ==> 300000 litros restantes\n",
      "Tanque externo ==> 200000 litros restantes\n",
      "\n"
     ]
    }
   ],
   "source": [
    "def mission_report(destination, *minutes, **tanques):\n",
    "    reporte = f\"\"\"\n",
    "    Mission to {destination}\n",
    "    Total travel time: {sum(minutes)} minutes\n",
    "    Total fuel left: {sum(tanques.values())}\n",
    "    \"\"\"\n",
    "    for tanque_tipo, litros in tanques.items():\n",
    "        reporte += f\"Tanque {tanque_tipo} ==> {litros} litros restantes\\n\"\n",
    "    return reporte    \n",
    "        \n",
    "print(mission_report(\"Moon\", 10, 15, 51, principal=300000, externo=200000))"
   ]
  }
 ],
 "metadata": {
  "interpreter": {
   "hash": "4b6ba3185840b55abef97b50b39247296152aaaf79648a69c23706c4e862bd35"
  },
  "kernelspec": {
   "display_name": "Python 3.10.2 64-bit",
   "language": "python",
   "name": "python3"
  },
  "language_info": {
   "codemirror_mode": {
    "name": "ipython",
    "version": 3
   },
   "file_extension": ".py",
   "mimetype": "text/x-python",
   "name": "python",
   "nbconvert_exporter": "python",
   "pygments_lexer": "ipython3",
   "version": "3.10.2"
  },
  "orig_nbformat": 4
 },
 "nbformat": 4,
 "nbformat_minor": 2
}
